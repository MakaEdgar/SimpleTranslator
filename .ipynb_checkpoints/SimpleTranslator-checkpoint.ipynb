{
 "cells": [
  {
   "cell_type": "markdown",
   "metadata": {},
   "source": [
    "# SimpleTranslator application\n",
    "\n",
    "Based on the Google.Translate wrapper https://github.com/guyrotem/google-translate-server"
   ]
  },
  {
   "cell_type": "markdown",
   "metadata": {},
   "source": [
    "### Create input for request"
   ]
  },
  {
   "cell_type": "code",
   "execution_count": 2,
   "metadata": {},
   "outputs": [],
   "source": [
    "def getTranslationURL(my_word, sourceLang=\"auto\", targetLang=\"en\"):\n",
    "\n",
    "    url_adress = \"https://google-translate-proxy.herokuapp.com/api/translate\"\n",
    "        \n",
    "    url_params = (\"query=\"      + my_word    + \"&\" + \n",
    "                  \"sourceLang=\" + sourceLang + \"&\" +\n",
    "                  \"targetLang=\" + targetLang )\n",
    "    \n",
    "    url = url_adress + \"?\" + url_params\n",
    "    \n",
    "    return url"
   ]
  },
  {
   "cell_type": "code",
   "execution_count": 3,
   "metadata": {},
   "outputs": [],
   "source": [
    "my_word = \"собака\"\n",
    "my_word_url = getTranslationURL(my_word)"
   ]
  },
  {
   "cell_type": "code",
   "execution_count": 4,
   "metadata": {},
   "outputs": [
    {
     "data": {
      "text/plain": [
       "'https://google-translate-proxy.herokuapp.com/api/translate?query=собака&sourceLang=auto&targetLang=en'"
      ]
     },
     "execution_count": 4,
     "metadata": {},
     "output_type": "execute_result"
    }
   ],
   "source": [
    "my_word_url"
   ]
  },
  {
   "cell_type": "markdown",
   "metadata": {},
   "source": [
    "### Send request & receive response"
   ]
  },
  {
   "cell_type": "code",
   "execution_count": 5,
   "metadata": {},
   "outputs": [],
   "source": [
    "import requests\n",
    "\n",
    "response = requests.get(my_word_url)"
   ]
  },
  {
   "cell_type": "code",
   "execution_count": 9,
   "metadata": {},
   "outputs": [
    {
     "data": {
      "text/plain": [
       "200"
      ]
     },
     "execution_count": 9,
     "metadata": {},
     "output_type": "execute_result"
    }
   ],
   "source": [
    "response.status_code"
   ]
  },
  {
   "cell_type": "markdown",
   "metadata": {},
   "source": [
    "### Extract & Process data"
   ]
  },
  {
   "cell_type": "code",
   "execution_count": 7,
   "metadata": {},
   "outputs": [
    {
     "data": {
      "text/plain": [
       "dict"
      ]
     },
     "execution_count": 7,
     "metadata": {},
     "output_type": "execute_result"
    }
   ],
   "source": [
    "response_data = response.json()\n",
    "type(response_data)"
   ]
  },
  {
   "cell_type": "code",
   "execution_count": 8,
   "metadata": {
    "scrolled": true
   },
   "outputs": [
    {
     "data": {
      "text/plain": [
       "{'extract': {'translation': 'dog',\n",
       "  'actualQuery': 'собака ',\n",
       "  'resultType': 2,\n",
       "  'transliteration': None,\n",
       "  'synonyms': ['dog', 'hound', 'pooch', 'at', 'bowwow'],\n",
       "  'sourceLanguage': 'ru'},\n",
       " 'originalResponse': '\"[[[\"dog\",\"собака\",null,null,2]\\n,[null,null,null,\"sobaka\"]\\n]\\n,[[\"noun\",[\"dog\",\"hound\",\"pooch\",\"at\",\"bowwow\"]\\n,[[\"dog\",[\"собака\",\"пес\",\"собачка\",\"кобель\",\"псина\",\"зажим\"]\\n,[34811]\\n,0.56978285]\\n,[\"hound\",[\"собака\",\"гончая\",\"гончая собака\",\"охотничья собака\",\"негодяй\"]\\n,[34811]\\n,0.0035506485]\\n,[\"pooch\",[\"дворняжка\",\"собака\"]\\n,null,4.240645E-4]\\n,[\"at\",[\"собака\"]\\n,null,2.695518E-4]\\n,[\"bowwow\",[\"собака\",\"собачий лай\"]\\n,null,6.854364E-6]\\n]\\n,\"собака\",1]\\n]\\n,\"ru\",null,null,[[\"собака\",null,[[\"dog\",1000,true,false]\\n]\\n,[[0,6]\\n]\\n,\"собака\",0,0]\\n]\\n,0.78294575,[]\\n,[[\"ru\"]\\n,null,[0.78294575]\\n,[\"ru\"]\\n]\\n,null,null,null,[[\"noun\",[[\"Домашнее животное из сем. хищных млекопитающих, к к-рому относятся также волк, лисица и др..\",\"e330620.0\",\"Дворовая с.\"]\\n]\\n,\"собака\"]\\n]\\n]\\n\"'}"
      ]
     },
     "execution_count": 8,
     "metadata": {},
     "output_type": "execute_result"
    }
   ],
   "source": [
    "response_data"
   ]
  },
  {
   "cell_type": "code",
   "execution_count": 10,
   "metadata": {},
   "outputs": [
    {
     "data": {
      "text/plain": [
       "{'translation': 'dog',\n",
       " 'actualQuery': 'собака ',\n",
       " 'resultType': 2,\n",
       " 'transliteration': None,\n",
       " 'synonyms': ['dog', 'hound', 'pooch', 'at', 'bowwow'],\n",
       " 'sourceLanguage': 'ru'}"
      ]
     },
     "execution_count": 10,
     "metadata": {},
     "output_type": "execute_result"
    }
   ],
   "source": [
    "response_data[\"extract\"]"
   ]
  },
  {
   "cell_type": "code",
   "execution_count": 57,
   "metadata": {},
   "outputs": [
    {
     "data": {
      "text/plain": [
       "'собака '"
      ]
     },
     "execution_count": 57,
     "metadata": {},
     "output_type": "execute_result"
    }
   ],
   "source": [
    "response_data[\"extract\"][\"actualQuery\"]"
   ]
  },
  {
   "cell_type": "code",
   "execution_count": 58,
   "metadata": {},
   "outputs": [
    {
     "data": {
      "text/plain": [
       "'dog'"
      ]
     },
     "execution_count": 58,
     "metadata": {},
     "output_type": "execute_result"
    }
   ],
   "source": [
    "response_data[\"extract\"][\"translation\"]"
   ]
  },
  {
   "cell_type": "code",
   "execution_count": 59,
   "metadata": {},
   "outputs": [
    {
     "data": {
      "text/plain": [
       "'ru'"
      ]
     },
     "execution_count": 59,
     "metadata": {},
     "output_type": "execute_result"
    }
   ],
   "source": [
    "response_data[\"extract\"][\"sourceLanguage\"]"
   ]
  },
  {
   "cell_type": "code",
   "execution_count": null,
   "metadata": {},
   "outputs": [],
   "source": []
  },
  {
   "cell_type": "markdown",
   "metadata": {},
   "source": [
    "# Single translate function"
   ]
  },
  {
   "cell_type": "code",
   "execution_count": 17,
   "metadata": {},
   "outputs": [],
   "source": [
    "import requests\n",
    "\n",
    "def translate(my_word, sourceLang=\"auto\", targetLang=\"en\"):\n",
    "    # create URL for request\n",
    "    url_adress = \"https://google-translate-proxy.herokuapp.com/api/translate\"\n",
    "    url_params = (\"query=\"      + my_word    + \"&\" + \n",
    "                  \"sourceLang=\" + sourceLang + \"&\" +\n",
    "                  \"targetLang=\" + targetLang )\n",
    "    url = url_adress + \"?\" + url_params\n",
    "    \n",
    "    # request translation from google.translate proxy\n",
    "    response = requests.get(url)\n",
    "\n",
    "    # extract the translation\n",
    "    response_data = response.json()\n",
    "    word_translation = response_data[\"extract\"][\"translation\"]\n",
    "    \n",
    "    return word_translation"
   ]
  },
  {
   "cell_type": "code",
   "execution_count": 18,
   "metadata": {},
   "outputs": [
    {
     "data": {
      "text/plain": [
       "'Monday'"
      ]
     },
     "execution_count": 18,
     "metadata": {},
     "output_type": "execute_result"
    }
   ],
   "source": [
    "translate(\"понедельник\")"
   ]
  },
  {
   "cell_type": "code",
   "execution_count": 19,
   "metadata": {
    "scrolled": true
   },
   "outputs": [
    {
     "data": {
      "text/plain": [
       "'Good morning!'"
      ]
     },
     "execution_count": 19,
     "metadata": {},
     "output_type": "execute_result"
    }
   ],
   "source": [
    "translate(\"Dobry den!\")"
   ]
  },
  {
   "cell_type": "code",
   "execution_count": 20,
   "metadata": {},
   "outputs": [
    {
     "data": {
      "text/plain": [
       "\"Hello! How are you? I'm fine. How about you? I'm fine, thank you!\""
      ]
     },
     "execution_count": 20,
     "metadata": {},
     "output_type": "execute_result"
    }
   ],
   "source": [
    "translate(\"你好! 你好吗? 我很好, 你呢? 我也很好, 谢谢!\")"
   ]
  },
  {
   "cell_type": "code",
   "execution_count": null,
   "metadata": {},
   "outputs": [],
   "source": []
  }
 ],
 "metadata": {
  "kernelspec": {
   "display_name": "Python 3",
   "language": "python",
   "name": "python3"
  },
  "language_info": {
   "codemirror_mode": {
    "name": "ipython",
    "version": 3
   },
   "file_extension": ".py",
   "mimetype": "text/x-python",
   "name": "python",
   "nbconvert_exporter": "python",
   "pygments_lexer": "ipython3",
   "version": "3.7.0"
  }
 },
 "nbformat": 4,
 "nbformat_minor": 2
}
